{
 "cells": [
  {
   "cell_type": "code",
   "execution_count": 4,
   "id": "18c0060d-a2ee-4a3b-8b08-13ee46047ac4",
   "metadata": {},
   "outputs": [],
   "source": [
    "import pandas as pd\n",
    "import numpy as np"
   ]
  },
  {
   "cell_type": "code",
   "execution_count": 5,
   "id": "a1a02cbf-479c-4d23-a9f3-085009b839c9",
   "metadata": {},
   "outputs": [],
   "source": [
    "# Read in the transactions csv containing data on customer stock transactions\n",
    "df = pd.read_csv('accounts.csv')"
   ]
  },
  {
   "cell_type": "code",
   "execution_count": 6,
   "id": "5a0f838b-c699-4719-a328-5e814ab5204c",
   "metadata": {},
   "outputs": [],
   "source": [
    "# Rename the columns currently in the data frame in order to remove the space between words in the column titles\n",
    "df = df.rename(columns = {'First Name' : 'FirstName', 'Last Name' : 'LastName', 'Account ID' : 'AccountID', 'Account Type' : 'AccountType', \n",
    "                          'Mailing Address' : 'MailingAddress', 'Account Creation Date' : 'AccountCreationDate', 'Date of Birth' : 'DateOfBirth', \n",
    "                          'Account Status' : 'AccountStatus', 'Risk Profile' : 'RiskProfile', \n",
    "                         'Risk Tolerance' : 'RiskTolerance', 'Income Bracket' : 'IncomeBracket', 'Employment Status' : 'EmploymentStatus', \n",
    "                         'Account Opened Date' : 'AccountOpenedDate'})"
   ]
  },
  {
   "cell_type": "code",
   "execution_count": 7,
   "id": "2eb125dd-e2ff-44d7-94fa-ceb4b25bfa4e",
   "metadata": {},
   "outputs": [],
   "source": [
    "# Make the columns where case doesn't matter upper case in order to standardize the row entries\n",
    "df[['FirstName', 'LastName', 'AccountType', 'RiskTolerance', 'EmploymentStatus', 'IncomeBracket']] = df[['FirstName', 'LastName', 'AccountType', 'RiskTolerance', 'EmploymentStatus', 'IncomeBracket']].astype(str).apply(lambda col: col.str.upper())"
   ]
  },
  {
   "cell_type": "code",
   "execution_count": 8,
   "id": "2cd28b6a-f48a-414a-b9ad-994fdc4ba43b",
   "metadata": {},
   "outputs": [],
   "source": [
    "# Drop any rows that are exactly the same\n",
    "df = df.drop_duplicates()"
   ]
  },
  {
   "cell_type": "code",
   "execution_count": 9,
   "id": "0503415f-6351-4e81-84a2-2f5085b4d62d",
   "metadata": {},
   "outputs": [
    {
     "data": {
      "text/html": [
       "<div>\n",
       "<style scoped>\n",
       "    .dataframe tbody tr th:only-of-type {\n",
       "        vertical-align: middle;\n",
       "    }\n",
       "\n",
       "    .dataframe tbody tr th {\n",
       "        vertical-align: top;\n",
       "    }\n",
       "\n",
       "    .dataframe thead th {\n",
       "        text-align: right;\n",
       "    }\n",
       "</style>\n",
       "<table border=\"1\" class=\"dataframe\">\n",
       "  <thead>\n",
       "    <tr style=\"text-align: right;\">\n",
       "      <th></th>\n",
       "      <th>AccountID</th>\n",
       "      <th>FirstName</th>\n",
       "      <th>LastName</th>\n",
       "      <th>SSN</th>\n",
       "      <th>Email</th>\n",
       "      <th>Phone</th>\n",
       "      <th>DateOfBirth</th>\n",
       "      <th>MailingAddress</th>\n",
       "      <th>AccountType</th>\n",
       "      <th>RiskTolerance</th>\n",
       "      <th>IncomeBracket</th>\n",
       "      <th>EmploymentStatus</th>\n",
       "      <th>AccountOpenedDate</th>\n",
       "    </tr>\n",
       "  </thead>\n",
       "  <tbody>\n",
       "  </tbody>\n",
       "</table>\n",
       "</div>"
      ],
      "text/plain": [
       "Empty DataFrame\n",
       "Columns: [AccountID, FirstName, LastName, SSN, Email, Phone, DateOfBirth, MailingAddress, AccountType, RiskTolerance, IncomeBracket, EmploymentStatus, AccountOpenedDate]\n",
       "Index: []"
      ]
     },
     "execution_count": 9,
     "metadata": {},
     "output_type": "execute_result"
    }
   ],
   "source": [
    "# Check to see if there are any rows with the same 'AccountID' because if there are, we must remove one because we want 'AccountID'\n",
    "# to be our primary key in the table\n",
    "df[df['AccountID'].duplicated()]"
   ]
  },
  {
   "cell_type": "code",
   "execution_count": 10,
   "id": "9199d3f6-874f-473d-83ec-7b4095c7cb12",
   "metadata": {},
   "outputs": [],
   "source": [
    "# Make the accountID be only yhe number within because it is unique\n",
    "df['AccountID'] = df['AccountID'].str.split('-').str[1] + df['AccountID'].str.split('-').str[2]"
   ]
  },
  {
   "cell_type": "code",
   "execution_count": 11,
   "id": "724dbcb7-c03e-4b06-8541-f642af55359d",
   "metadata": {},
   "outputs": [],
   "source": [
    "# SPlit 'PhoneNumber' into the usual phone number and extension number if needed\n",
    "df['PhoneNumber'] = df['Phone'].str.split('x').str[0]\n",
    "df['ExtensionNumber'] = df['Phone'].str.split('x').str[1]\n",
    "df = df.drop('Phone', axis=1)"
   ]
  },
  {
   "cell_type": "code",
   "execution_count": 12,
   "id": "d94b7ea4-3a5d-4afe-b509-61ea0eaadde7",
   "metadata": {},
   "outputs": [],
   "source": [
    "# Combine the first and last names to get a name column in order to clean the names by removing titles such as 'Mr.' and ending titles as well\n",
    "df['Name'] = df['FirstName'] + ' ' + df['LastName']\n",
    "formal_titles_df = df['Name'][df['Name'].str.split('.').str[1].isna() == 0]\n",
    "df['Name'][df['Name'].str.split('.').str[1].isna() == 0] = (formal_titles_df.str.split('.').str[1].str.split(' ').str[1] + ' ' + \n",
    "formal_titles_df.str.split('.').str[1].str.split(' ').str[2])"
   ]
  },
  {
   "cell_type": "code",
   "execution_count": 13,
   "id": "f270586d-00df-49fa-a78c-e2a1e8294319",
   "metadata": {},
   "outputs": [],
   "source": [
    "# Set 'FirstName' and 'LastName' to the new cleaned versions and drop the column 'Name' which we only used for cleaning\n",
    "df['FirstName'] = df['Name'].str.split(' ').str[0]\n",
    "df['LastName'] = df['Name'].str.split(' ').str[1]\n",
    "df = df.drop('Name', axis=1)"
   ]
  },
  {
   "cell_type": "code",
   "execution_count": 14,
   "id": "0cf2d13d-6138-4d5d-976b-4982cc8dccf4",
   "metadata": {},
   "outputs": [],
   "source": [
    "# Standardize the 'PhoneNumbers' column \n",
    "df['PhoneNumber'] = df['PhoneNumber'].str.replace('.', '').str.replace('(', '').str.replace(')', '').str.replace('-', '')"
   ]
  },
  {
   "cell_type": "code",
   "execution_count": 15,
   "id": "5102ed96-6436-4c98-9396-c3a7616f35c2",
   "metadata": {},
   "outputs": [],
   "source": [
    "# Delete the whitespace before and after every entry in every column where the quantity is of type 'object'\n",
    "for col in df.select_dtypes(include='object'):\n",
    "    df[col] = df[col].str.strip()"
   ]
  },
  {
   "cell_type": "code",
   "execution_count": 16,
   "id": "78025147-308b-48ac-919a-4bdd11449a4e",
   "metadata": {},
   "outputs": [],
   "source": [
    "# Replace the different entries for empty with None in order to make it simpler when importing for sql use\n",
    "df = df.replace(['NAN', 'NaN', np.nan], None)"
   ]
  },
  {
   "cell_type": "code",
   "execution_count": 17,
   "id": "b671c0f2-e1a5-403e-aad1-7c9057aa4170",
   "metadata": {},
   "outputs": [],
   "source": [
    "# Clean all of the columns dealing with dates in order to convert them to the format yyyy-mm-dd\n",
    "\n",
    "columns = ['DateOfBirth', 'AccountOpenedDate']\n",
    "\n",
    "for column in columns:\n",
    "\n",
    "    # If the date appears as month dd, yyyy then change the month spelled out to the numeric mm it corresponds to\n",
    "    df[column][df[column].str.split('-').str[1].isna() == 0] = (\n",
    "        df[column][df[column].str.split('-').str[1].isna() == 0].str.replace('Jan', '01').str.replace('Feb', '02')\n",
    "        .str.replace('Mar', '03').str.replace('Apr', '04').str.replace('May', '05').str.replace('Jun', '06').str.replace('Jul', '07')\n",
    "        .str.replace('Aug', '08').str.replace('Sep', '09').str.replace('Oct', '10').str.replace('Nov', '11').str.replace('Dec', '12')\n",
    "    )\n",
    "\n",
    "    # Define month_dd_yyyy_dates_dash as the dates that appear as day-abbreviated_month-year\n",
    "    month_dd_yyyy_dates_dash_df = df[column][df[column].str.split('-').str[1].isna() == 0]\n",
    "    # Set those dates that appear as day-abbreviated_month-yyyy to be in the form yyyy-mm-dd\n",
    "    df[column][df[column].str.split('-').str[1].isna() == 0] = (\n",
    "        month_dd_yyyy_dates_dash_df.str.split('-').str[2] + '-' + month_dd_yyyy_dates_dash_df.str.split('-').str[1] + '-' +\n",
    "        month_dd_yyyy_dates_dash_df.str.split('-').str[0]\n",
    "    )\n",
    "\n",
    "    # Define mm_dd_yyyy_dates_slash as those dates in the 'DateCompleted' column that look like mm/dd/yyyy\n",
    "    mm_dd_yyyy_dates_slash_df = df[column][df[column].str.split('/').str[1].isna() == 0]\n",
    "    # Change the dates that look like mm/dd/yyyy to be yyyy-mm-dd\n",
    "    df[column][df[column].str.split('/').str[1].isna() == 0] = (\n",
    "        mm_dd_yyyy_dates_slash_df.str.split(\"/\").str[2] + '-' + mm_dd_yyyy_dates_slash_df.str.split(\"/\").str[0] + '-' + mm_dd_yyyy_dates_slash_df.str.split(\"/\").str[1])\n",
    "\n",
    "    # Since the placeholder 0 is missing from some of these dates, we fill them in in order to get two digits for day and month in each date\n",
    "    df[column] = df[column].str.split('-').str[0] + '-' + df[column].str.split('-').str[1].str.zfill(2) + '-' + df[column].str.split('-').str[2].str.zfill(2)"
   ]
  },
  {
   "cell_type": "code",
   "execution_count": 18,
   "id": "7b5d24c9-60d3-4776-b786-8cdf865f3fbf",
   "metadata": {},
   "outputs": [],
   "source": [
    "df.to_csv(r'C:\\Users\\beanw\\OneDrive\\Desktop\\finance_project\\cleaned_accounts.csv', index=False) "
   ]
  },
  {
   "cell_type": "code",
   "execution_count": null,
   "id": "cb98fc59-9359-42cf-8a02-3583f224a3fe",
   "metadata": {},
   "outputs": [],
   "source": []
  },
  {
   "cell_type": "code",
   "execution_count": null,
   "id": "d33aeb25-5e8b-4baa-a320-dab831b1db92",
   "metadata": {},
   "outputs": [],
   "source": []
  }
 ],
 "metadata": {
  "kernelspec": {
   "display_name": "Python 3 (ipykernel)",
   "language": "python",
   "name": "python3"
  },
  "language_info": {
   "codemirror_mode": {
    "name": "ipython",
    "version": 3
   },
   "file_extension": ".py",
   "mimetype": "text/x-python",
   "name": "python",
   "nbconvert_exporter": "python",
   "pygments_lexer": "ipython3",
   "version": "3.13.5"
  }
 },
 "nbformat": 4,
 "nbformat_minor": 5
}
