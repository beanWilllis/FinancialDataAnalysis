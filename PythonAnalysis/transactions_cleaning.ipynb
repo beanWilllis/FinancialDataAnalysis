{
 "cells": [
  {
   "cell_type": "code",
   "execution_count": 1,
   "id": "f5172c61-f722-4252-82a8-96835e162f6e",
   "metadata": {},
   "outputs": [],
   "source": [
    "import pandas as pd\n",
    "import numpy as np\n",
    "from string import punctuation"
   ]
  },
  {
   "cell_type": "code",
   "execution_count": 2,
   "id": "c2b821d5-6c84-4278-8e9e-a8627d95fb95",
   "metadata": {},
   "outputs": [],
   "source": [
    "# Read in the transactions csv containing data on customer stock transactions\n",
    "df = pd.read_csv('transactions.csv')"
   ]
  },
  {
   "cell_type": "code",
   "execution_count": 3,
   "id": "7e5a9149-dd5a-4d4f-8de7-71ae426febf5",
   "metadata": {},
   "outputs": [],
   "source": [
    "# Rename the columns currently in the data frame in order to remove the space between words in the column titles\n",
    "df = df.rename(columns = {'Account ID' : 'AccountID', 'Transaction ID' : 'TransactionID', 'Account Type' : 'AccountType', \n",
    "                          'Trade Date' : 'TradeDate', 'Settlement Date' : 'SettlementDate', 'Price Per Share' : 'PricePerShare', 'Status' : 'TransactionStatus'})"
   ]
  },
  {
   "cell_type": "code",
   "execution_count": 4,
   "id": "65b1b23d-b7ce-435f-a562-d1f87f59b991",
   "metadata": {},
   "outputs": [],
   "source": [
    "# Rename the columns in order to remove the space so we may work with it more easily\n",
    "df[['Name', 'Asset', 'Ticker', 'AccountType', 'PricePerShare', 'TransactionStatus', 'Notes']] = (\n",
    "df[['Name', 'Asset', 'Ticker', 'AccountType', 'PricePerShare', 'TransactionStatus', 'Notes']].astype(str).apply(lambda col: col.str.upper()))"
   ]
  },
  {
   "cell_type": "code",
   "execution_count": 5,
   "id": "b2a86c75-340d-4333-b15e-0507fe9b8a32",
   "metadata": {},
   "outputs": [],
   "source": [
    "# Drop all rows where the row has an exact copy in every entry in some other row in the table\n",
    "df = df.drop_duplicates()"
   ]
  },
  {
   "cell_type": "code",
   "execution_count": 6,
   "id": "b9bc213e-06d4-4412-a45d-0ff1350213e6",
   "metadata": {},
   "outputs": [
    {
     "data": {
      "text/html": [
       "<div>\n",
       "<style scoped>\n",
       "    .dataframe tbody tr th:only-of-type {\n",
       "        vertical-align: middle;\n",
       "    }\n",
       "\n",
       "    .dataframe tbody tr th {\n",
       "        vertical-align: top;\n",
       "    }\n",
       "\n",
       "    .dataframe thead th {\n",
       "        text-align: right;\n",
       "    }\n",
       "</style>\n",
       "<table border=\"1\" class=\"dataframe\">\n",
       "  <thead>\n",
       "    <tr style=\"text-align: right;\">\n",
       "      <th></th>\n",
       "      <th>Name</th>\n",
       "      <th>AccountID</th>\n",
       "      <th>TransactionID</th>\n",
       "      <th>AccountType</th>\n",
       "      <th>Asset</th>\n",
       "      <th>Ticker</th>\n",
       "      <th>Quantity</th>\n",
       "      <th>TradeDate</th>\n",
       "      <th>SettlementDate</th>\n",
       "      <th>PricePerShare</th>\n",
       "      <th>Currency</th>\n",
       "      <th>TransactionStatus</th>\n",
       "      <th>Notes</th>\n",
       "    </tr>\n",
       "  </thead>\n",
       "  <tbody>\n",
       "    <tr>\n",
       "      <th>1121</th>\n",
       "      <td>NAN</td>\n",
       "      <td>NaN</td>\n",
       "      <td>NaN</td>\n",
       "      <td>NAN</td>\n",
       "      <td>NAN</td>\n",
       "      <td>NAN</td>\n",
       "      <td>NaN</td>\n",
       "      <td>NaN</td>\n",
       "      <td>NaN</td>\n",
       "      <td>NAN</td>\n",
       "      <td>NaN</td>\n",
       "      <td>NAN</td>\n",
       "      <td>NAN</td>\n",
       "    </tr>\n",
       "  </tbody>\n",
       "</table>\n",
       "</div>"
      ],
      "text/plain": [
       "     Name AccountID TransactionID AccountType Asset Ticker Quantity TradeDate  \\\n",
       "1121  NAN       NaN           NaN         NAN   NAN    NAN      NaN       NaN   \n",
       "\n",
       "     SettlementDate PricePerShare Currency TransactionStatus Notes  \n",
       "1121            NaN           NAN      NaN               NAN   NAN  "
      ]
     },
     "execution_count": 6,
     "metadata": {},
     "output_type": "execute_result"
    }
   ],
   "source": [
    "# Check if there are rows that don't have exact duplicates in every entry but still have a duplicate \"TransactionID'\n",
    "# Because this should be a unique value that only ever appears in one row\n",
    "df[df['TransactionID'].duplicated()]"
   ]
  },
  {
   "cell_type": "code",
   "execution_count": 7,
   "id": "56839782-ec6c-4ecd-8613-b307bbeaf5c0",
   "metadata": {},
   "outputs": [
    {
     "data": {
      "text/html": [
       "<div>\n",
       "<style scoped>\n",
       "    .dataframe tbody tr th:only-of-type {\n",
       "        vertical-align: middle;\n",
       "    }\n",
       "\n",
       "    .dataframe tbody tr th {\n",
       "        vertical-align: top;\n",
       "    }\n",
       "\n",
       "    .dataframe thead th {\n",
       "        text-align: right;\n",
       "    }\n",
       "</style>\n",
       "<table border=\"1\" class=\"dataframe\">\n",
       "  <thead>\n",
       "    <tr style=\"text-align: right;\">\n",
       "      <th></th>\n",
       "      <th>Name</th>\n",
       "      <th>AccountID</th>\n",
       "      <th>TransactionID</th>\n",
       "      <th>AccountType</th>\n",
       "      <th>Asset</th>\n",
       "      <th>Ticker</th>\n",
       "      <th>Quantity</th>\n",
       "      <th>TradeDate</th>\n",
       "      <th>SettlementDate</th>\n",
       "      <th>PricePerShare</th>\n",
       "      <th>Currency</th>\n",
       "      <th>TransactionStatus</th>\n",
       "      <th>Notes</th>\n",
       "    </tr>\n",
       "  </thead>\n",
       "  <tbody>\n",
       "    <tr>\n",
       "      <th>1120</th>\n",
       "      <td>TOTAL</td>\n",
       "      <td>NaN</td>\n",
       "      <td>NaN</td>\n",
       "      <td>NAN</td>\n",
       "      <td>NAN</td>\n",
       "      <td>NAN</td>\n",
       "      <td>NaN</td>\n",
       "      <td>NaN</td>\n",
       "      <td>NaN</td>\n",
       "      <td>$3,245,000</td>\n",
       "      <td>NaN</td>\n",
       "      <td>NAN</td>\n",
       "      <td>NAN</td>\n",
       "    </tr>\n",
       "    <tr>\n",
       "      <th>1121</th>\n",
       "      <td>NAN</td>\n",
       "      <td>NaN</td>\n",
       "      <td>NaN</td>\n",
       "      <td>NAN</td>\n",
       "      <td>NAN</td>\n",
       "      <td>NAN</td>\n",
       "      <td>NaN</td>\n",
       "      <td>NaN</td>\n",
       "      <td>NaN</td>\n",
       "      <td>NAN</td>\n",
       "      <td>NaN</td>\n",
       "      <td>NAN</td>\n",
       "      <td>NAN</td>\n",
       "    </tr>\n",
       "  </tbody>\n",
       "</table>\n",
       "</div>"
      ],
      "text/plain": [
       "       Name AccountID TransactionID AccountType Asset Ticker Quantity  \\\n",
       "1120  TOTAL       NaN           NaN         NAN   NAN    NAN      NaN   \n",
       "1121    NAN       NaN           NaN         NAN   NAN    NAN      NaN   \n",
       "\n",
       "     TradeDate SettlementDate PricePerShare Currency TransactionStatus Notes  \n",
       "1120       NaN            NaN    $3,245,000      NaN               NAN   NAN  \n",
       "1121       NaN            NaN           NAN      NaN               NAN   NAN  "
      ]
     },
     "execution_count": 7,
     "metadata": {},
     "output_type": "execute_result"
    }
   ],
   "source": [
    "# Since the only repeated 'TransactionID' was NaN we will look so see all the rows with this repeat ID\n",
    "df[df['TransactionID'].isna() == 1]"
   ]
  },
  {
   "cell_type": "code",
   "execution_count": 8,
   "id": "8097c8e8-8396-45d1-a5a6-f840fcd8fba0",
   "metadata": {},
   "outputs": [],
   "source": [
    "# Beause all of the rows with this repeated 'TransactionID' of NaN (id 1120 and 1121) are just garbage rows, we will delete them\n",
    "# Also, the row beneath these two rows is a garbage row filled just with * so we will delete it too\n",
    "df = df.drop([1120, 1121, 1122], axis=0)"
   ]
  },
  {
   "cell_type": "code",
   "execution_count": 9,
   "id": "cac33e96-e8ca-4248-8e27-b0534ac0c7f4",
   "metadata": {},
   "outputs": [],
   "source": [
    "# Get rid of any units in the 'PricePerShare' column because the currency column is where the actual units are\n",
    "df['PricePerShare'] = df['PricePerShare'].str.strip(punctuation).str.split('U').str[0].str.strip()"
   ]
  },
  {
   "cell_type": "code",
   "execution_count": 10,
   "id": "296954b5-f90e-4797-85be-7c1edbca0485",
   "metadata": {},
   "outputs": [],
   "source": [
    "# Replace 'ten' with '10' in the 'Quantity' column\n",
    "df['Quantity'] = df['Quantity'].str.replace('ten', '10')"
   ]
  },
  {
   "cell_type": "code",
   "execution_count": 11,
   "id": "32c4f620-ff8a-49c1-943b-88fc691d141c",
   "metadata": {},
   "outputs": [],
   "source": [
    "# Get only the number in the 'AccountID' column by removing the 'ACC' and hyphens, which are unnecessary because the numbers themselves \n",
    "# provide all the information we need\n",
    "df['AccountID'] = df['AccountID'].str.split('-').str[1] + df['AccountID'].str.split('-').str[2]"
   ]
  },
  {
   "cell_type": "code",
   "execution_count": 12,
   "id": "bad4ff2f-63b4-4b40-a285-db2639623d99",
   "metadata": {},
   "outputs": [],
   "source": [
    "# If the ticker symbol is not in the list of correct symbols for all the possible stocks bought and sold, change the ticker to the right one\n",
    "# Specifically, we change those tickers where the last character was left off\n",
    "df[df['Ticker'].isin(['AAPL', 'NFLX', 'GOOGL', 'GOOG', 'MSFT', 'NVDA', 'AMZN', 'TSLA', 'META', 'BRK.A', 'JNJ']) == 0] = (\n",
    "df[df['Ticker'].isin(['AAPL', 'NFLX', 'GOOGL', 'GOOG', 'MSFT', 'NVDA', 'AMZN', 'TSLA', 'META', 'BRK.A', 'JNJ']) == 0]\n",
    "    .replace('NVD', 'NVDA').replace('MET', 'META').replace('AAP', 'AAPL').replace('BRK.', 'BRK.A').replace('JN', 'JNJ')\n",
    "    .replace('AMZ', 'AMZN').replace('MSF', 'MSFT').replace('NFL', 'NFLX').replace('TSL', 'TSLA'))"
   ]
  },
  {
   "cell_type": "code",
   "execution_count": 13,
   "id": "665d582a-3350-4c0d-bfbb-efb736a2a9a0",
   "metadata": {},
   "outputs": [],
   "source": [
    "# Chnage all dates in all the dates columns to be in the format yyyy-mm-dd\n",
    "\n",
    "columns = ['TradeDate', 'SettlementDate']\n",
    "\n",
    "for column in columns:\n",
    "\n",
    "    # If the date appears as month dd, yyyy then change the month spelled out to the numeric mm it corresponds to\n",
    "    df[column][df[column].str.split('-').str[1].isna() == 0] = (\n",
    "        df[column][df[column].str.split('-').str[1].isna() == 0].str.replace('Jan', '01').str.replace('Feb', '02')\n",
    "        .str.replace('Mar', '03').str.replace('Apr', '04').str.replace('May', '05').str.replace('Jun', '06').str.replace('Jul', '07')\n",
    "        .str.replace('Aug', '08').str.replace('Sep', '09').str.replace('Oct', '10').str.replace('Nov', '11').str.replace('Dec', '12')\n",
    "    )\n",
    "\n",
    "    # Define month_dd_yyyy_dates_dash as the dates that appear as day-month-year\n",
    "    month_dd_yyyy_dates_dash_df = df[column][df[column].str.split('-').str[1].isna() == 0]\n",
    "    # Set those dates that appear as month, dd, yyyy to be in the form yyyy-mm-dd\n",
    "    df[column][df[column].str.split('-').str[1].isna() == 0] = (\n",
    "        month_dd_yyyy_dates_dash_df.str.split('-').str[2] + '-' + month_dd_yyyy_dates_dash_df.str.split('-').str[1] + '-' +\n",
    "        month_dd_yyyy_dates_dash_df.str.split('-').str[0]\n",
    "    )\n",
    "\n",
    "    # Define mm_dd_yyyy_dates_slash as those dates in the 'DateCompleted' column that look like mm/dd/yyyy\n",
    "    mm_dd_yyyy_dates_slash_df = df[column][df[column].str.split('/').str[1].isna() == 0]\n",
    "    # Change the dates that look like mm/dd/yyyy to be yyyy-mm-dd\n",
    "    df[column][df[column].str.split('/').str[1].isna() == 0] = (\n",
    "        mm_dd_yyyy_dates_slash_df.str.split(\"/\").str[2] + '-' + mm_dd_yyyy_dates_slash_df.str.split(\"/\").str[0] + '-' + mm_dd_yyyy_dates_slash_df.str.split(\"/\").str[1])\n",
    "    \n",
    "    # Since the placeholder 0 is missing from some of these dates, we fill them in in order to get two digits for day and month in each date\n",
    "    df[column] = df[column].str.split('-').str[0] + '-' + df[column].str.split('-').str[1].str.zfill(2) + '-' + df[column].str.split('-').str[2].str.zfill(2)"
   ]
  },
  {
   "cell_type": "code",
   "execution_count": 14,
   "id": "b2a1a983-a138-4225-9be4-920660503822",
   "metadata": {},
   "outputs": [],
   "source": [
    "# Remove any honorifics from the names such as 'Mr.', 'Dr.', DDS, etc\n",
    "formal_titles_df = df['Name'][df['Name'].str.split('.').str[1].isna() == 0]\n",
    "df['Name'][df['Name'].str.split('.').str[1].isna() == 0] = (formal_titles_df.str.split('.').str[1].str.split(' ').str[1] + ' ' + \n",
    "formal_titles_df.str.split('.').str[1].str.split(' ').str[2])"
   ]
  },
  {
   "cell_type": "code",
   "execution_count": 15,
   "id": "c6aeb22c-6ad0-46c5-b4f1-40fd9beb6645",
   "metadata": {},
   "outputs": [],
   "source": [
    "# Separate the 'Name' column into first and last name columns and then remove the original 'Name' column\n",
    "df['FirstName'] = df['Name'].str.split(' ').str[0]\n",
    "df['LastName'] = df['Name'].str.split(' ').str[1]\n",
    "df = df.drop('Name', axis=1)"
   ]
  },
  {
   "cell_type": "code",
   "execution_count": 16,
   "id": "60a07624-82ac-48d6-9c39-005230da3724",
   "metadata": {},
   "outputs": [],
   "source": [
    "# Replace the comma in the PricePerShare column so that we may convert it to a number later and use it as an int\n",
    "df['PricePerShare'] = df['PricePerShare'].str.replace(',', '')"
   ]
  },
  {
   "cell_type": "code",
   "execution_count": 17,
   "id": "3824a58d-5e02-46ab-8227-7a2777c6239d",
   "metadata": {},
   "outputs": [],
   "source": [
    "# Delete the whitespace before and after every entry in every column where the quantity is of type 'object'\n",
    "for col in df.select_dtypes(include='object'):\n",
    "    df[col] = df[col].str.strip()"
   ]
  },
  {
   "cell_type": "code",
   "execution_count": 18,
   "id": "e31e87b6-3e40-44da-83fb-20232c798b97",
   "metadata": {},
   "outputs": [],
   "source": [
    "# Replace any pseudonull values with None so that when converting to sql it is easier to work with\n",
    "df = df.replace(['NAN', 'NaN', np.nan], None)"
   ]
  },
  {
   "cell_type": "code",
   "execution_count": 21,
   "id": "f4a12e2d-9a3d-4de2-a66d-3edf6e7889e4",
   "metadata": {},
   "outputs": [],
   "source": [
    "df.to_csv(r'C:\\Users\\beanw\\OneDrive\\Desktop\\finance_project\\cleaned_transactions.csv', index=False) "
   ]
  },
  {
   "cell_type": "code",
   "execution_count": null,
   "id": "7e360276-1de6-4437-835a-3d07af1c51b3",
   "metadata": {},
   "outputs": [],
   "source": []
  },
  {
   "cell_type": "code",
   "execution_count": null,
   "id": "caebaea7-168a-4200-8ffb-4c652e9541ae",
   "metadata": {},
   "outputs": [],
   "source": []
  }
 ],
 "metadata": {
  "kernelspec": {
   "display_name": "Python 3 (ipykernel)",
   "language": "python",
   "name": "python3"
  },
  "language_info": {
   "codemirror_mode": {
    "name": "ipython",
    "version": 3
   },
   "file_extension": ".py",
   "mimetype": "text/x-python",
   "name": "python",
   "nbconvert_exporter": "python",
   "pygments_lexer": "ipython3",
   "version": "3.13.5"
  }
 },
 "nbformat": 4,
 "nbformat_minor": 5
}
