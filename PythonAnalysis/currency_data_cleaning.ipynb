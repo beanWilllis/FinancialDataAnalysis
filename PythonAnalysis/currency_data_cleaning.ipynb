{
 "cells": [
  {
   "cell_type": "code",
   "execution_count": 94,
   "id": "a0e8a3d0-3bd7-47f0-9cb6-58464461d3f2",
   "metadata": {},
   "outputs": [],
   "source": [
    "import pandas as pd"
   ]
  },
  {
   "cell_type": "code",
   "execution_count": 95,
   "id": "ef63a582-b9f3-4a20-b779-3db755a49697",
   "metadata": {},
   "outputs": [],
   "source": [
    "# Import the historical data for exchange rates\n",
    "us_df = pd.read_csv('DEXUSUS.csv')\n",
    "eu_df = pd.read_csv('DEXUSEU.csv')\n",
    "ca_df = pd.read_csv('DEXUSCA.csv')"
   ]
  },
  {
   "cell_type": "code",
   "execution_count": 96,
   "id": "507e568c-5498-4925-b0c7-b41a9411bbc1",
   "metadata": {},
   "outputs": [],
   "source": [
    "# Save the date column from one of these historic exchange rate tables in order to get the dates the stock market has been open historically\n",
    "valid_dates_df = us_df['Date']\n",
    "valid_dates_df.to_csv(r'C:\\Users\\beanw\\OneDrive\\Desktop\\finance_project\\valid_stock_market_dates.csv', index=False) "
   ]
  },
  {
   "cell_type": "code",
   "execution_count": 97,
   "id": "b5218f69-3af6-42d7-ac7a-d3c5ddd5ec1e",
   "metadata": {},
   "outputs": [
    {
     "name": "stderr",
     "output_type": "stream",
     "text": [
      "C:\\Users\\beanw\\AppData\\Local\\Temp\\ipykernel_35912\\209423691.py:7: SettingWithCopyWarning: \n",
      "A value is trying to be set on a copy of a slice from a DataFrame\n",
      "\n",
      "See the caveats in the documentation: https://pandas.pydata.org/pandas-docs/stable/user_guide/indexing.html#returning-a-view-versus-a-copy\n",
      "  us_df['Date'][us_df['Date'].str.split('/').str[1].isna() == 0] = (\n",
      "C:\\Users\\beanw\\AppData\\Local\\Temp\\ipykernel_35912\\209423691.py:10: SettingWithCopyWarning: \n",
      "A value is trying to be set on a copy of a slice from a DataFrame\n",
      "\n",
      "See the caveats in the documentation: https://pandas.pydata.org/pandas-docs/stable/user_guide/indexing.html#returning-a-view-versus-a-copy\n",
      "  eu_df['Date'][eu_df['Date'].str.split('/').str[1].isna() == 0] = (\n",
      "C:\\Users\\beanw\\AppData\\Local\\Temp\\ipykernel_35912\\209423691.py:13: SettingWithCopyWarning: \n",
      "A value is trying to be set on a copy of a slice from a DataFrame\n",
      "\n",
      "See the caveats in the documentation: https://pandas.pydata.org/pandas-docs/stable/user_guide/indexing.html#returning-a-view-versus-a-copy\n",
      "  ca_df['Date'][ca_df['Date'].str.split('/').str[1].isna() == 0] = (\n"
     ]
    }
   ],
   "source": [
    "# Define mm_dd_yyyy_dates_slash as those dates that look like mm/dd/yyyy\n",
    "\n",
    "mm_dd_yyyy_dates_slash_us_df = us_df['Date'][us_df['Date'].str.split('/').str[1].isna() == 0]\n",
    "mm_dd_yyyy_dates_slash_eu_df = eu_df['Date'][eu_df['Date'].str.split('/').str[1].isna() == 0]\n",
    "mm_dd_yyyy_dates_slash_ca_df = ca_df['Date'][ca_df['Date'].str.split('/').str[1].isna() == 0]\n",
    "\n",
    "# Change the dates that look like mm/dd/yyyy to be yyyy-mm-dd\n",
    "\n",
    "us_df['Date'][us_df['Date'].str.split('/').str[1].isna() == 0] = (\n",
    "    mm_dd_yyyy_dates_slash_us_df.str.split(\"/\").str[2] + '-' + mm_dd_yyyy_dates_slash_us_df.str.split(\"/\").str[0] + '-' + mm_dd_yyyy_dates_slash_us_df.str.split(\"/\").str[1])\n",
    "\n",
    "eu_df['Date'][eu_df['Date'].str.split('/').str[1].isna() == 0] = (\n",
    "    mm_dd_yyyy_dates_slash_eu_df.str.split(\"/\").str[2] + '-' + mm_dd_yyyy_dates_slash_eu_df.str.split(\"/\").str[0] + '-' + mm_dd_yyyy_dates_slash_eu_df.str.split(\"/\").str[1])\n",
    "\n",
    "ca_df['Date'][ca_df['Date'].str.split('/').str[1].isna() == 0] = (\n",
    "    mm_dd_yyyy_dates_slash_ca_df.str.split(\"/\").str[2] + '-' + mm_dd_yyyy_dates_slash_ca_df.str.split(\"/\").str[0] + '-' + mm_dd_yyyy_dates_slash_ca_df.str.split(\"/\").str[1])"
   ]
  },
  {
   "cell_type": "code",
   "execution_count": 98,
   "id": "6a343fd7-ff1b-4043-b220-54597fefb21d",
   "metadata": {},
   "outputs": [],
   "source": [
    "# Ensure that any placeholder zeroes that are not in the date are tfilled in in order to give us yyyy-mm-dd\n",
    "\n",
    "us_df['Date'] = us_df['Date'].str.split('-').str[0] + '-' + us_df['Date'].str.split('-').str[1].str.zfill(2) + '-' + us_df['Date'].str.split('-').str[2].str.zfill(2)\n",
    "eu_df['Date'] = eu_df['Date'].str.split('-').str[0] + '-' + eu_df['Date'].str.split('-').str[1].str.zfill(2) + '-' + eu_df['Date'].str.split('-').str[2].str.zfill(2)\n",
    "ca_df['Date'] = ca_df['Date'].str.split('-').str[0] + '-' + ca_df['Date'].str.split('-').str[1].str.zfill(2) + '-' + ca_df['Date'].str.split('-').str[2].str.zfill(2)"
   ]
  },
  {
   "cell_type": "code",
   "execution_count": 99,
   "id": "3eb8b07a-87d9-48fe-928c-34c27e629980",
   "metadata": {},
   "outputs": [],
   "source": [
    "# Alternatively, we could use the to_datetime function instead of doing it manually\n",
    "us_df['Date'] = pd.to_datetime(us_df['Date']).dt.strftime('%Y-%m-%d')"
   ]
  },
  {
   "cell_type": "code",
   "execution_count": 100,
   "id": "e3d91b72-521f-426d-a283-f0ceac8fa2c3",
   "metadata": {},
   "outputs": [],
   "source": [
    "# Keep only the values from each df that are not null\n",
    "us_df = us_df[us_df['ExchangeRate'].isna() == 0]\n",
    "eu_df = eu_df[eu_df['ExchangeRate'].isna() == 0]\n",
    "ca_df = ca_df[ca_df['ExchangeRate'].isna() == 0]"
   ]
  },
  {
   "cell_type": "code",
   "execution_count": 102,
   "id": "fd68053d-cd4c-4fca-8a5b-d1c0682c6f07",
   "metadata": {},
   "outputs": [],
   "source": [
    "us_df.to_csv(r'C:\\Users\\beanw\\OneDrive\\Desktop\\finance_project\\us_currency_data.csv', index=False) \n",
    "eu_df.to_csv(r'C:\\Users\\beanw\\OneDrive\\Desktop\\finance_project\\eu_currency_data.csv', index=False) \n",
    "ca_df.to_csv(r'C:\\Users\\beanw\\OneDrive\\Desktop\\finance_project\\ca_currency_data.csv', index=False) "
   ]
  },
  {
   "cell_type": "code",
   "execution_count": null,
   "id": "9d2816b7-41d1-4f3c-a13d-ecab7088a036",
   "metadata": {},
   "outputs": [],
   "source": []
  }
 ],
 "metadata": {
  "kernelspec": {
   "display_name": "Python 3 (ipykernel)",
   "language": "python",
   "name": "python3"
  },
  "language_info": {
   "codemirror_mode": {
    "name": "ipython",
    "version": 3
   },
   "file_extension": ".py",
   "mimetype": "text/x-python",
   "name": "python",
   "nbconvert_exporter": "python",
   "pygments_lexer": "ipython3",
   "version": "3.13.5"
  }
 },
 "nbformat": 4,
 "nbformat_minor": 5
}
